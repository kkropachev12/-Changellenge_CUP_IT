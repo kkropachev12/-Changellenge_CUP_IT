{
 "cells": [
  {
   "cell_type": "code",
   "execution_count": null,
   "metadata": {},
   "outputs": [],
   "source": [
    "# Импортируем библиотеки\n",
    "import os\n",
    "import pandas as pd\n",
    "import seaborn as sn\n",
    "import numpy as np\n",
    "import dask.dataframe as dd\n",
    "import matplotlib.pyplot as plt\n",
    "from sklearn.preprocessing import StandardScaler\n",
    "from sklearn.cluster import KMeans\n",
    "from sklearn.cluster import AgglomerativeClustering\n",
    "\n",
    "\n",
    "df = pd.read_csv(f'dataset/txns_data_raw/txns_ww0.csv', sep=';')\n",
    "df.rename(columns = {'qw':'nn_qw'}, inplace = True)\n",
    "df = df.dropna()\n",
    "df.head()"
   ]
  },
  {
   "cell_type": "code",
   "execution_count": null,
   "metadata": {},
   "outputs": [],
   "source": [
    "# Добавляем новую колокнку fee как сумма всех комиссий\n",
    "df = df.assign(fee = df['client_fee'] + df['interchange_fee'] + df['payout_fee'] + df['paysys_fee'] + df['payin_fee'])\n",
    "df['fee'].sum()"
   ]
  },
  {
   "cell_type": "code",
   "execution_count": null,
   "metadata": {},
   "outputs": [],
   "source": [
    "df.dtypes"
   ]
  },
  {
   "cell_type": "code",
   "execution_count": null,
   "metadata": {},
   "outputs": [],
   "source": [
    "# Определяем самый ранний денб покупки\n",
    "df.sort_values(by='txn_minute')\n",
    "df.head(20)"
   ]
  },
  {
   "cell_type": "code",
   "execution_count": null,
   "metadata": {},
   "outputs": [],
   "source": [
    "df.sort_values(by='nn_qw', ascending=True).head()\n"
   ]
  },
  {
   "cell_type": "code",
   "execution_count": null,
   "metadata": {},
   "outputs": [],
   "source": [
    "# Recency\n",
    "day = '2022-12-26' # Начальная дата - самая ранняя\n",
    "day = pd.to_datetime(day)\n",
    "df['txn_minute'] =  pd.to_datetime(df['txn_minute']).dt.normalize()\n",
    "\n",
    "recency = df.groupby(['nn_qw']).agg({'txn_minute': lambda x:(-1 * (day - x.max()).days)}) # Берем начальную и вычитаем из нее максимальную дату \n",
    "recency"
   ]
  },
  {
   "cell_type": "code",
   "execution_count": null,
   "metadata": {},
   "outputs": [],
   "source": [
    "# Frequency\n",
    "freq = df.groupby(['nn_qw'])[['nn_qw']].count()\n",
    "freq"
   ]
  },
  {
   "cell_type": "code",
   "execution_count": null,
   "metadata": {},
   "outputs": [],
   "source": [
    "# Monetary value\n",
    "\n",
    "money = df.groupby(['nn_qw'])[['amount']].sum()\n",
    "money"
   ]
  },
  {
   "cell_type": "code",
   "execution_count": null,
   "metadata": {},
   "outputs": [],
   "source": [
    "recency.columns=['Recency']\n",
    "freq.columns=['Frequency']\n",
    "money.columns=['Monetary']\n",
    "RFM = pd.concat([recency, freq, money], axis=1)\n",
    "RFM"
   ]
  },
  {
   "cell_type": "code",
   "execution_count": null,
   "metadata": {},
   "outputs": [],
   "source": [
    "# Машинное обучение\n",
    "scaler = StandardScaler()\n",
    "scaled = scaler.fit_transform(RFM)"
   ]
  },
  {
   "cell_type": "code",
   "execution_count": null,
   "metadata": {},
   "outputs": [],
   "source": [
    "# Выбираем количество кластеров\n",
    "inertia = []\n",
    "for i in np.arange(1, 11):\n",
    "    kmeans = KMeans(n_clusters=i, init = 'k-means++')\n",
    "    kmeans.fit(scaled)\n",
    "    inertia.append(kmeans.inertia_)\n",
    "\n",
    "plt.plot(inertia, marker='o')"
   ]
  },
  {
   "cell_type": "code",
   "execution_count": null,
   "metadata": {},
   "outputs": [],
   "source": [
    "# Из графика видно, что нам нужно 3 Кластера\n",
    "kmeans = KMeans(n_clusters=3)\n",
    "kmeans.fit(scaled)\n",
    "RFM['Clusters'] = (kmeans.labels_ + 1)\n",
    "RFM"
   ]
  },
  {
   "cell_type": "code",
   "execution_count": null,
   "metadata": {},
   "outputs": [],
   "source": [
    "group = RFM.groupby(['Clusters'])['Recency', 'Frequency', 'Monetary'].mean()\n",
    "group"
   ]
  },
  {
   "cell_type": "code",
   "execution_count": null,
   "metadata": {},
   "outputs": [],
   "source": [
    "def distribution(row):\n",
    "    if row['Clusters'] == 1:\n",
    "        return '222' # Спящие редкие со средним чеком\n",
    "    elif row['Clusters'] == 2:\n",
    "        return '311' # Недавние разовые покупки с низким чеком\n",
    "    else:\n",
    "        return '233' # Спящие частые с высоким чеком"
   ]
  },
  {
   "cell_type": "code",
   "execution_count": null,
   "metadata": {},
   "outputs": [],
   "source": [
    "RFM['Conditions'] = RFM.apply(distribution, axis=1)\n",
    "results = RFM['Clusters'].value_counts()\n",
    "results.plot(kind='barh', color=['green', 'blue', 'red'])"
   ]
  },
  {
   "cell_type": "code",
   "execution_count": null,
   "metadata": {},
   "outputs": [],
   "source": [
    "RFM.groupby('Clusters').size()"
   ]
  },
  {
   "cell_type": "code",
   "execution_count": null,
   "metadata": {},
   "outputs": [],
   "source": [
    "# Записываем файл\n",
    "# RFM.to_csv('RFM_0.csv')"
   ]
  },
  {
   "cell_type": "code",
   "execution_count": null,
   "metadata": {},
   "outputs": [],
   "source": [
    "# import plotly.express as px\n",
    "# px.scatter_3d(RFM['Recency'].to_list(), RFM['Frequency'].to_list(), RFM['Monetary'].to_list())\n"
   ]
  },
  {
   "cell_type": "code",
   "execution_count": null,
   "metadata": {},
   "outputs": [],
   "source": []
  }
 ],
 "metadata": {
  "kernelspec": {
   "display_name": "Python 3",
   "language": "python",
   "name": "python3"
  },
  "language_info": {
   "codemirror_mode": {
    "name": "ipython",
    "version": 3
   },
   "file_extension": ".py",
   "mimetype": "text/x-python",
   "name": "python",
   "nbconvert_exporter": "python",
   "pygments_lexer": "ipython3",
   "version": "3.11.1"
  },
  "orig_nbformat": 4
 },
 "nbformat": 4,
 "nbformat_minor": 2
}
