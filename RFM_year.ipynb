{
 "cells": [
  {
   "cell_type": "code",
   "execution_count": null,
   "metadata": {},
   "outputs": [],
   "source": [
    "# Импортируем библиотеки\n",
    "import os\n",
    "import pandas as pd\n",
    "import seaborn as sn\n",
    "import numpy as np\n",
    "import dask.dataframe as dd\n",
    "import matplotlib.pyplot as plt\n",
    "from sklearn.preprocessing import StandardScaler\n",
    "from sklearn.cluster import KMeans\n",
    "from sklearn.cluster import AgglomerativeClustering\n"
   ]
  },
  {
   "cell_type": "code",
   "execution_count": null,
   "metadata": {},
   "outputs": [],
   "source": [
    "df = pd.read_csv(f'data_year.csv', sep=',')\n",
    "df"
   ]
  },
  {
   "cell_type": "code",
   "execution_count": null,
   "metadata": {},
   "outputs": [],
   "source": [
    "# Recency\n",
    "day = '2022-01-01' # Начальная дата - самая ранняя\n",
    "day = pd.to_datetime(day)\n",
    "df['date'] =  pd.to_datetime(df['date']).dt.normalize()\n",
    "dates = df['date'].to_list()\n",
    "df = df.assign(date = -1 * (day - df['date'])) # Берем начальную и вычитаем из нее максимальную дату \n",
    "df['date'] = [-1*(day - date).days for date in dates]\n",
    "recency = df['date']\n",
    "recency"
   ]
  },
  {
   "cell_type": "code",
   "execution_count": null,
   "metadata": {},
   "outputs": [],
   "source": [
    "# Frequency\n",
    "freq = df['qw_count']\n",
    "freq"
   ]
  },
  {
   "cell_type": "code",
   "execution_count": null,
   "metadata": {},
   "outputs": [],
   "source": [
    "# Monetary value\n",
    "\n",
    "money = df['amount_sum']\n",
    "money"
   ]
  },
  {
   "cell_type": "code",
   "execution_count": null,
   "metadata": {},
   "outputs": [],
   "source": [
    "recency.columns=['Recency']\n",
    "freq.columns=['Frequency']\n",
    "money.columns=['Monetary']\n",
    "RFM = pd.concat([recency, freq, money], axis=1)\n",
    "RFM"
   ]
  },
  {
   "cell_type": "code",
   "execution_count": null,
   "metadata": {},
   "outputs": [],
   "source": [
    "RFM[RFM.isnull().any(1)]"
   ]
  },
  {
   "cell_type": "code",
   "execution_count": null,
   "metadata": {},
   "outputs": [],
   "source": [
    "df.dropna()"
   ]
  },
  {
   "cell_type": "code",
   "execution_count": null,
   "metadata": {},
   "outputs": [],
   "source": [
    "# Машинное обучение\n",
    "scaler = StandardScaler()\n",
    "scaled = scaler.fit_transform(RFM)\n",
    "\n",
    "# Выбираем количество кластеров\n",
    "# inertia = []\n",
    "# for i in np.arange(1, 11):\n",
    "#     kmeans = KMeans(n_clusters=i, init = 'k-means++')\n",
    "#     kmeans.fit(scaled)\n",
    "#     inertia.append(kmeans.inertia_)\n",
    "\n",
    "# plt.plot(inertia, marker='o')"
   ]
  },
  {
   "cell_type": "code",
   "execution_count": null,
   "metadata": {},
   "outputs": [],
   "source": [
    "# Из графика видно, что нам нужно 3 Кластера\n",
    "kmeans = KMeans(n_clusters=3)\n",
    "kmeans.fit(scaled)\n",
    "df['Clusters'] = (kmeans.labels_ + 1)\n",
    "df"
   ]
  },
  {
   "cell_type": "code",
   "execution_count": null,
   "metadata": {},
   "outputs": [],
   "source": [
    "df = df.drop(columns=['qw_count', 'amount_sum', 'txn_id_sum', 'revenue', 'costs', 'date'])\n",
    "\n",
    "df.to_csv('clusters.csv')"
   ]
  },
  {
   "cell_type": "code",
   "execution_count": null,
   "metadata": {},
   "outputs": [],
   "source": [
    "df = df.assign(average_check=df['amount_sum']/df['qw_count'])\n",
    "df.to_csv('df_clusters.csv')"
   ]
  },
  {
   "cell_type": "code",
   "execution_count": null,
   "metadata": {},
   "outputs": [],
   "source": [
    "group = df.groupby(['Clusters']).agg({\n",
    "        'qw_count': 'sum',\n",
    "        'amount_sum': 'sum',\n",
    "        'txn_id_sum': 'sum',\n",
    "        'revenue': 'sum',\n",
    "        'costs': 'sum',\n",
    "        'date': 'mean'\n",
    "    })\n",
    "group"
   ]
  },
  {
   "cell_type": "code",
   "execution_count": null,
   "metadata": {},
   "outputs": [],
   "source": [
    "pd.options.display.float_format ='{:,.8f}'.format\n",
    "RFM['Clusters'] = (kmeans.labels_ + 1)\n",
    "RFM_group = RFM.groupby(['Clusters'])['date', 'qw_count', 'amount_sum'].mean()\n",
    "RFM_group"
   ]
  },
  {
   "cell_type": "code",
   "execution_count": null,
   "metadata": {},
   "outputs": [],
   "source": [
    "group = group.assign(average_check=group['amount_sum']/group['qw_count'])\n",
    "group"
   ]
  },
  {
   "cell_type": "code",
   "execution_count": null,
   "metadata": {},
   "outputs": [],
   "source": [
    "df"
   ]
  },
  {
   "cell_type": "code",
   "execution_count": null,
   "metadata": {},
   "outputs": [],
   "source": [
    "quantity_users = df.groupby(['Clusters'])['qw'].count()\n",
    "quantity_users"
   ]
  },
  {
   "cell_type": "code",
   "execution_count": null,
   "metadata": {},
   "outputs": [],
   "source": [
    "group['quantity_users'] = quantity_users\n",
    "group"
   ]
  },
  {
   "cell_type": "code",
   "execution_count": null,
   "metadata": {},
   "outputs": [],
   "source": [
    "registration = pd.read_csv(f'dataset/reg_data/qw_regs.csv', sep=';')\n",
    "registration\n"
   ]
  },
  {
   "cell_type": "code",
   "execution_count": null,
   "metadata": {},
   "outputs": [],
   "source": [
    "df_new_users = pd.concat([df, registration], axis=1)\n",
    "df_new_users = df_new_users.dropna()\n",
    "df_new_users\n"
   ]
  },
  {
   "cell_type": "code",
   "execution_count": null,
   "metadata": {},
   "outputs": [],
   "source": [
    "df_new_users['from_dt'] = pd.to_datetime(df_new_users['from_dt']).dt.normalize()\n",
    "dates_reg = df_new_users['from_dt'].to_list()\n",
    "day = pd.to_datetime('2022-01-01')\n",
    "spisok = []\n",
    "for d in dates_reg:\n",
    "    if (day - d).days > 0:\n",
    "        spisok.append(0)\n",
    "    else:\n",
    "        spisok.append(1)\n",
    "\n",
    "print(spisok)\n"
   ]
  },
  {
   "cell_type": "code",
   "execution_count": null,
   "metadata": {},
   "outputs": [],
   "source": [
    "df_new_users['is_new'] = spisok\n",
    "df_new_users"
   ]
  },
  {
   "cell_type": "code",
   "execution_count": null,
   "metadata": {},
   "outputs": [],
   "source": [
    "df_new_users_group = df_new_users.groupby(['Clusters']).agg({\n",
    "        'qw_count': 'sum',\n",
    "        'amount_sum': 'sum',\n",
    "        'txn_id_sum': 'sum',\n",
    "        'revenue': 'sum',\n",
    "        'costs': 'sum',\n",
    "        'average_check': 'mean',\n",
    "        'date': 'mean',\n",
    "        'is_new': 'sum'\n",
    "    })\n",
    "df_new_users_group['quantity_users'] = quantity_users\n",
    "df_new_users_group"
   ]
  },
  {
   "cell_type": "code",
   "execution_count": null,
   "metadata": {},
   "outputs": [],
   "source": []
  }
 ],
 "metadata": {
  "kernelspec": {
   "display_name": "Python 3",
   "language": "python",
   "name": "python3"
  },
  "language_info": {
   "codemirror_mode": {
    "name": "ipython",
    "version": 3
   },
   "file_extension": ".py",
   "mimetype": "text/x-python",
   "name": "python",
   "nbconvert_exporter": "python",
   "pygments_lexer": "ipython3",
   "version": "3.11.1"
  },
  "orig_nbformat": 4,
  "vscode": {
   "interpreter": {
    "hash": "f5dc1d050cdcaf23d8b0072c9e77a91277b876692ad90dd06f91016f43a3b45a"
   }
  }
 },
 "nbformat": 4,
 "nbformat_minor": 2
}
