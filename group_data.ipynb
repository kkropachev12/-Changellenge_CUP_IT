{
 "cells": [
  {
   "cell_type": "code",
   "execution_count": 92,
   "metadata": {},
   "outputs": [],
   "source": [
    "import os\n",
    "import pandas as pd\n",
    "\n",
    "def get_data(file):\n",
    "    df = pd.read_csv(f\"dataset/txns_data_raw/{file}\", sep=';')\n",
    "    qw_count = df.groupby(['qw'])['qw'].count()\n",
    "    amount_sum = df.groupby(['qw'])['amount'].sum()\n",
    "    txn_id_sum = df.groupby(['qw'])['txn_id'].sum()\n",
    "    revenue = df.groupby(['qw'])['client_fee'].sum() + df.groupby(['qw'])['interchange_fee'].sum()\n",
    "    costs = df.groupby(['qw'])['payout_fee'].sum() + df.groupby(['qw'])['paysys_fee'].sum() + df.groupby(['qw'])['payin_fee'].sum()\n",
    "    date = pd.to_datetime(df.groupby(['qw'])['txn_minute'].max()).dt.normalize()\n",
    "    # print(len(qw_count))\n",
    "    # print(len(amount_sum))\n",
    "    # print(len(txn_id_sum))\n",
    "    \n",
    "    # print(len(revenue))\n",
    "    # print(len(costs))\n",
    "    # print(len(date))\n",
    "    # print('rev')\n",
    "    # print(revenue[-10:])\n",
    "\n",
    "    result = pd.DataFrame()\n",
    "    result['qw_count'] = qw_count\n",
    "    result['amount_sum'] = amount_sum\n",
    "    result['txn_id_sum'] = txn_id_sum\n",
    "    result['revenue'] = revenue\n",
    "    result['costs'] = costs\n",
    "    result['date'] = date\n",
    "    return result\n",
    "\n",
    "def join_dfs(df1, df2):\n",
    "    df = df1.append(df2)\n",
    "    df.reset_index(inplace=True)\n",
    "    df = df.groupby(['qw']).agg({\n",
    "        'qw_count': 'sum',\n",
    "        'amount_sum': 'sum',\n",
    "        'txn_id_sum': 'sum',\n",
    "        'revenue': 'sum',\n",
    "        'costs': 'sum',\n",
    "        'date': 'max'\n",
    "    })\n",
    "    return df\n"
   ]
  },
  {
   "cell_type": "code",
   "execution_count": 93,
   "metadata": {},
   "outputs": [
    {
     "name": "stdout",
     "output_type": "stream",
     "text": [
      "txns_ww0.csv\n",
      "txns_ww1.csv\n"
     ]
    },
    {
     "name": "stderr",
     "output_type": "stream",
     "text": [
      "C:\\Users\\Xiaomi\\AppData\\Local\\Temp\\ipykernel_28240\\859755045.py:32: FutureWarning: The frame.append method is deprecated and will be removed from pandas in a future version. Use pandas.concat instead.\n",
      "  df = df1.append(df2)\n"
     ]
    },
    {
     "name": "stdout",
     "output_type": "stream",
     "text": [
      "txns_ww10.csv\n"
     ]
    },
    {
     "name": "stderr",
     "output_type": "stream",
     "text": [
      "C:\\Users\\Xiaomi\\AppData\\Local\\Temp\\ipykernel_28240\\859755045.py:32: FutureWarning: The frame.append method is deprecated and will be removed from pandas in a future version. Use pandas.concat instead.\n",
      "  df = df1.append(df2)\n"
     ]
    },
    {
     "name": "stdout",
     "output_type": "stream",
     "text": [
      "txns_ww11.csv\n"
     ]
    },
    {
     "name": "stderr",
     "output_type": "stream",
     "text": [
      "C:\\Users\\Xiaomi\\AppData\\Local\\Temp\\ipykernel_28240\\859755045.py:32: FutureWarning: The frame.append method is deprecated and will be removed from pandas in a future version. Use pandas.concat instead.\n",
      "  df = df1.append(df2)\n"
     ]
    },
    {
     "name": "stdout",
     "output_type": "stream",
     "text": [
      "txns_ww12.csv\n"
     ]
    },
    {
     "name": "stderr",
     "output_type": "stream",
     "text": [
      "C:\\Users\\Xiaomi\\AppData\\Local\\Temp\\ipykernel_28240\\859755045.py:32: FutureWarning: The frame.append method is deprecated and will be removed from pandas in a future version. Use pandas.concat instead.\n",
      "  df = df1.append(df2)\n"
     ]
    },
    {
     "name": "stdout",
     "output_type": "stream",
     "text": [
      "txns_ww13.csv\n"
     ]
    },
    {
     "name": "stderr",
     "output_type": "stream",
     "text": [
      "C:\\Users\\Xiaomi\\AppData\\Local\\Temp\\ipykernel_28240\\859755045.py:32: FutureWarning: The frame.append method is deprecated and will be removed from pandas in a future version. Use pandas.concat instead.\n",
      "  df = df1.append(df2)\n"
     ]
    },
    {
     "name": "stdout",
     "output_type": "stream",
     "text": [
      "txns_ww14.csv\n"
     ]
    },
    {
     "name": "stderr",
     "output_type": "stream",
     "text": [
      "C:\\Users\\Xiaomi\\AppData\\Local\\Temp\\ipykernel_28240\\859755045.py:32: FutureWarning: The frame.append method is deprecated and will be removed from pandas in a future version. Use pandas.concat instead.\n",
      "  df = df1.append(df2)\n"
     ]
    },
    {
     "name": "stdout",
     "output_type": "stream",
     "text": [
      "txns_ww15.csv\n"
     ]
    },
    {
     "name": "stderr",
     "output_type": "stream",
     "text": [
      "C:\\Users\\Xiaomi\\AppData\\Local\\Temp\\ipykernel_28240\\859755045.py:32: FutureWarning: The frame.append method is deprecated and will be removed from pandas in a future version. Use pandas.concat instead.\n",
      "  df = df1.append(df2)\n"
     ]
    },
    {
     "name": "stdout",
     "output_type": "stream",
     "text": [
      "txns_ww16.csv\n"
     ]
    },
    {
     "name": "stderr",
     "output_type": "stream",
     "text": [
      "C:\\Users\\Xiaomi\\AppData\\Local\\Temp\\ipykernel_28240\\859755045.py:32: FutureWarning: The frame.append method is deprecated and will be removed from pandas in a future version. Use pandas.concat instead.\n",
      "  df = df1.append(df2)\n"
     ]
    },
    {
     "name": "stdout",
     "output_type": "stream",
     "text": [
      "txns_ww17.csv\n"
     ]
    },
    {
     "name": "stderr",
     "output_type": "stream",
     "text": [
      "C:\\Users\\Xiaomi\\AppData\\Local\\Temp\\ipykernel_28240\\859755045.py:32: FutureWarning: The frame.append method is deprecated and will be removed from pandas in a future version. Use pandas.concat instead.\n",
      "  df = df1.append(df2)\n"
     ]
    },
    {
     "name": "stdout",
     "output_type": "stream",
     "text": [
      "txns_ww18.csv\n"
     ]
    },
    {
     "name": "stderr",
     "output_type": "stream",
     "text": [
      "C:\\Users\\Xiaomi\\AppData\\Local\\Temp\\ipykernel_28240\\859755045.py:32: FutureWarning: The frame.append method is deprecated and will be removed from pandas in a future version. Use pandas.concat instead.\n",
      "  df = df1.append(df2)\n"
     ]
    },
    {
     "name": "stdout",
     "output_type": "stream",
     "text": [
      "txns_ww19.csv\n"
     ]
    },
    {
     "name": "stderr",
     "output_type": "stream",
     "text": [
      "C:\\Users\\Xiaomi\\AppData\\Local\\Temp\\ipykernel_28240\\859755045.py:32: FutureWarning: The frame.append method is deprecated and will be removed from pandas in a future version. Use pandas.concat instead.\n",
      "  df = df1.append(df2)\n"
     ]
    },
    {
     "name": "stdout",
     "output_type": "stream",
     "text": [
      "txns_ww2.csv\n"
     ]
    },
    {
     "name": "stderr",
     "output_type": "stream",
     "text": [
      "C:\\Users\\Xiaomi\\AppData\\Local\\Temp\\ipykernel_28240\\859755045.py:32: FutureWarning: The frame.append method is deprecated and will be removed from pandas in a future version. Use pandas.concat instead.\n",
      "  df = df1.append(df2)\n"
     ]
    },
    {
     "name": "stdout",
     "output_type": "stream",
     "text": [
      "txns_ww20.csv\n"
     ]
    },
    {
     "name": "stderr",
     "output_type": "stream",
     "text": [
      "C:\\Users\\Xiaomi\\AppData\\Local\\Temp\\ipykernel_28240\\859755045.py:32: FutureWarning: The frame.append method is deprecated and will be removed from pandas in a future version. Use pandas.concat instead.\n",
      "  df = df1.append(df2)\n"
     ]
    },
    {
     "name": "stdout",
     "output_type": "stream",
     "text": [
      "txns_ww21.csv\n"
     ]
    },
    {
     "name": "stderr",
     "output_type": "stream",
     "text": [
      "C:\\Users\\Xiaomi\\AppData\\Local\\Temp\\ipykernel_28240\\859755045.py:32: FutureWarning: The frame.append method is deprecated and will be removed from pandas in a future version. Use pandas.concat instead.\n",
      "  df = df1.append(df2)\n"
     ]
    },
    {
     "name": "stdout",
     "output_type": "stream",
     "text": [
      "txns_ww22.csv\n"
     ]
    },
    {
     "name": "stderr",
     "output_type": "stream",
     "text": [
      "C:\\Users\\Xiaomi\\AppData\\Local\\Temp\\ipykernel_28240\\859755045.py:32: FutureWarning: The frame.append method is deprecated and will be removed from pandas in a future version. Use pandas.concat instead.\n",
      "  df = df1.append(df2)\n"
     ]
    },
    {
     "name": "stdout",
     "output_type": "stream",
     "text": [
      "txns_ww23.csv\n"
     ]
    },
    {
     "name": "stderr",
     "output_type": "stream",
     "text": [
      "C:\\Users\\Xiaomi\\AppData\\Local\\Temp\\ipykernel_28240\\859755045.py:32: FutureWarning: The frame.append method is deprecated and will be removed from pandas in a future version. Use pandas.concat instead.\n",
      "  df = df1.append(df2)\n"
     ]
    },
    {
     "name": "stdout",
     "output_type": "stream",
     "text": [
      "txns_ww24.csv\n"
     ]
    },
    {
     "name": "stderr",
     "output_type": "stream",
     "text": [
      "C:\\Users\\Xiaomi\\AppData\\Local\\Temp\\ipykernel_28240\\859755045.py:32: FutureWarning: The frame.append method is deprecated and will be removed from pandas in a future version. Use pandas.concat instead.\n",
      "  df = df1.append(df2)\n"
     ]
    },
    {
     "name": "stdout",
     "output_type": "stream",
     "text": [
      "txns_ww25.csv\n"
     ]
    },
    {
     "name": "stderr",
     "output_type": "stream",
     "text": [
      "C:\\Users\\Xiaomi\\AppData\\Local\\Temp\\ipykernel_28240\\859755045.py:32: FutureWarning: The frame.append method is deprecated and will be removed from pandas in a future version. Use pandas.concat instead.\n",
      "  df = df1.append(df2)\n"
     ]
    },
    {
     "name": "stdout",
     "output_type": "stream",
     "text": [
      "txns_ww26.csv\n"
     ]
    },
    {
     "name": "stderr",
     "output_type": "stream",
     "text": [
      "C:\\Users\\Xiaomi\\AppData\\Local\\Temp\\ipykernel_28240\\859755045.py:32: FutureWarning: The frame.append method is deprecated and will be removed from pandas in a future version. Use pandas.concat instead.\n",
      "  df = df1.append(df2)\n"
     ]
    },
    {
     "name": "stdout",
     "output_type": "stream",
     "text": [
      "txns_ww27.csv\n"
     ]
    },
    {
     "name": "stderr",
     "output_type": "stream",
     "text": [
      "C:\\Users\\Xiaomi\\AppData\\Local\\Temp\\ipykernel_28240\\859755045.py:32: FutureWarning: The frame.append method is deprecated and will be removed from pandas in a future version. Use pandas.concat instead.\n",
      "  df = df1.append(df2)\n"
     ]
    },
    {
     "name": "stdout",
     "output_type": "stream",
     "text": [
      "txns_ww28.csv\n"
     ]
    },
    {
     "name": "stderr",
     "output_type": "stream",
     "text": [
      "C:\\Users\\Xiaomi\\AppData\\Local\\Temp\\ipykernel_28240\\859755045.py:32: FutureWarning: The frame.append method is deprecated and will be removed from pandas in a future version. Use pandas.concat instead.\n",
      "  df = df1.append(df2)\n"
     ]
    },
    {
     "name": "stdout",
     "output_type": "stream",
     "text": [
      "txns_ww29.csv\n"
     ]
    },
    {
     "name": "stderr",
     "output_type": "stream",
     "text": [
      "C:\\Users\\Xiaomi\\AppData\\Local\\Temp\\ipykernel_28240\\859755045.py:32: FutureWarning: The frame.append method is deprecated and will be removed from pandas in a future version. Use pandas.concat instead.\n",
      "  df = df1.append(df2)\n"
     ]
    },
    {
     "name": "stdout",
     "output_type": "stream",
     "text": [
      "txns_ww3.csv\n"
     ]
    },
    {
     "name": "stderr",
     "output_type": "stream",
     "text": [
      "C:\\Users\\Xiaomi\\AppData\\Local\\Temp\\ipykernel_28240\\859755045.py:32: FutureWarning: The frame.append method is deprecated and will be removed from pandas in a future version. Use pandas.concat instead.\n",
      "  df = df1.append(df2)\n"
     ]
    },
    {
     "name": "stdout",
     "output_type": "stream",
     "text": [
      "txns_ww30.csv\n"
     ]
    },
    {
     "name": "stderr",
     "output_type": "stream",
     "text": [
      "C:\\Users\\Xiaomi\\AppData\\Local\\Temp\\ipykernel_28240\\859755045.py:32: FutureWarning: The frame.append method is deprecated and will be removed from pandas in a future version. Use pandas.concat instead.\n",
      "  df = df1.append(df2)\n"
     ]
    },
    {
     "name": "stdout",
     "output_type": "stream",
     "text": [
      "txns_ww31.csv\n"
     ]
    },
    {
     "name": "stderr",
     "output_type": "stream",
     "text": [
      "C:\\Users\\Xiaomi\\AppData\\Local\\Temp\\ipykernel_28240\\859755045.py:32: FutureWarning: The frame.append method is deprecated and will be removed from pandas in a future version. Use pandas.concat instead.\n",
      "  df = df1.append(df2)\n"
     ]
    },
    {
     "name": "stdout",
     "output_type": "stream",
     "text": [
      "txns_ww32.csv\n"
     ]
    },
    {
     "name": "stderr",
     "output_type": "stream",
     "text": [
      "C:\\Users\\Xiaomi\\AppData\\Local\\Temp\\ipykernel_28240\\859755045.py:32: FutureWarning: The frame.append method is deprecated and will be removed from pandas in a future version. Use pandas.concat instead.\n",
      "  df = df1.append(df2)\n"
     ]
    },
    {
     "name": "stdout",
     "output_type": "stream",
     "text": [
      "txns_ww33.csv\n"
     ]
    },
    {
     "name": "stderr",
     "output_type": "stream",
     "text": [
      "C:\\Users\\Xiaomi\\AppData\\Local\\Temp\\ipykernel_28240\\859755045.py:32: FutureWarning: The frame.append method is deprecated and will be removed from pandas in a future version. Use pandas.concat instead.\n",
      "  df = df1.append(df2)\n"
     ]
    },
    {
     "name": "stdout",
     "output_type": "stream",
     "text": [
      "txns_ww34.csv\n"
     ]
    },
    {
     "name": "stderr",
     "output_type": "stream",
     "text": [
      "C:\\Users\\Xiaomi\\AppData\\Local\\Temp\\ipykernel_28240\\859755045.py:32: FutureWarning: The frame.append method is deprecated and will be removed from pandas in a future version. Use pandas.concat instead.\n",
      "  df = df1.append(df2)\n"
     ]
    },
    {
     "name": "stdout",
     "output_type": "stream",
     "text": [
      "txns_ww35.csv\n"
     ]
    },
    {
     "name": "stderr",
     "output_type": "stream",
     "text": [
      "C:\\Users\\Xiaomi\\AppData\\Local\\Temp\\ipykernel_28240\\859755045.py:32: FutureWarning: The frame.append method is deprecated and will be removed from pandas in a future version. Use pandas.concat instead.\n",
      "  df = df1.append(df2)\n"
     ]
    },
    {
     "name": "stdout",
     "output_type": "stream",
     "text": [
      "txns_ww36.csv\n"
     ]
    },
    {
     "name": "stderr",
     "output_type": "stream",
     "text": [
      "C:\\Users\\Xiaomi\\AppData\\Local\\Temp\\ipykernel_28240\\859755045.py:32: FutureWarning: The frame.append method is deprecated and will be removed from pandas in a future version. Use pandas.concat instead.\n",
      "  df = df1.append(df2)\n"
     ]
    },
    {
     "name": "stdout",
     "output_type": "stream",
     "text": [
      "txns_ww37.csv\n"
     ]
    },
    {
     "name": "stderr",
     "output_type": "stream",
     "text": [
      "C:\\Users\\Xiaomi\\AppData\\Local\\Temp\\ipykernel_28240\\859755045.py:32: FutureWarning: The frame.append method is deprecated and will be removed from pandas in a future version. Use pandas.concat instead.\n",
      "  df = df1.append(df2)\n"
     ]
    },
    {
     "name": "stdout",
     "output_type": "stream",
     "text": [
      "txns_ww38.csv\n"
     ]
    },
    {
     "name": "stderr",
     "output_type": "stream",
     "text": [
      "C:\\Users\\Xiaomi\\AppData\\Local\\Temp\\ipykernel_28240\\859755045.py:32: FutureWarning: The frame.append method is deprecated and will be removed from pandas in a future version. Use pandas.concat instead.\n",
      "  df = df1.append(df2)\n"
     ]
    },
    {
     "name": "stdout",
     "output_type": "stream",
     "text": [
      "txns_ww39.csv\n"
     ]
    },
    {
     "name": "stderr",
     "output_type": "stream",
     "text": [
      "C:\\Users\\Xiaomi\\AppData\\Local\\Temp\\ipykernel_28240\\859755045.py:32: FutureWarning: The frame.append method is deprecated and will be removed from pandas in a future version. Use pandas.concat instead.\n",
      "  df = df1.append(df2)\n"
     ]
    },
    {
     "name": "stdout",
     "output_type": "stream",
     "text": [
      "txns_ww4.csv\n"
     ]
    },
    {
     "name": "stderr",
     "output_type": "stream",
     "text": [
      "C:\\Users\\Xiaomi\\AppData\\Local\\Temp\\ipykernel_28240\\859755045.py:32: FutureWarning: The frame.append method is deprecated and will be removed from pandas in a future version. Use pandas.concat instead.\n",
      "  df = df1.append(df2)\n"
     ]
    },
    {
     "name": "stdout",
     "output_type": "stream",
     "text": [
      "txns_ww40.csv\n"
     ]
    },
    {
     "name": "stderr",
     "output_type": "stream",
     "text": [
      "C:\\Users\\Xiaomi\\AppData\\Local\\Temp\\ipykernel_28240\\859755045.py:32: FutureWarning: The frame.append method is deprecated and will be removed from pandas in a future version. Use pandas.concat instead.\n",
      "  df = df1.append(df2)\n"
     ]
    },
    {
     "name": "stdout",
     "output_type": "stream",
     "text": [
      "txns_ww41.csv\n"
     ]
    },
    {
     "name": "stderr",
     "output_type": "stream",
     "text": [
      "C:\\Users\\Xiaomi\\AppData\\Local\\Temp\\ipykernel_28240\\859755045.py:32: FutureWarning: The frame.append method is deprecated and will be removed from pandas in a future version. Use pandas.concat instead.\n",
      "  df = df1.append(df2)\n"
     ]
    },
    {
     "name": "stdout",
     "output_type": "stream",
     "text": [
      "txns_ww42.csv\n"
     ]
    },
    {
     "name": "stderr",
     "output_type": "stream",
     "text": [
      "C:\\Users\\Xiaomi\\AppData\\Local\\Temp\\ipykernel_28240\\859755045.py:32: FutureWarning: The frame.append method is deprecated and will be removed from pandas in a future version. Use pandas.concat instead.\n",
      "  df = df1.append(df2)\n"
     ]
    },
    {
     "name": "stdout",
     "output_type": "stream",
     "text": [
      "txns_ww43.csv\n"
     ]
    },
    {
     "name": "stderr",
     "output_type": "stream",
     "text": [
      "C:\\Users\\Xiaomi\\AppData\\Local\\Temp\\ipykernel_28240\\859755045.py:32: FutureWarning: The frame.append method is deprecated and will be removed from pandas in a future version. Use pandas.concat instead.\n",
      "  df = df1.append(df2)\n"
     ]
    },
    {
     "name": "stdout",
     "output_type": "stream",
     "text": [
      "txns_ww44.csv\n"
     ]
    },
    {
     "name": "stderr",
     "output_type": "stream",
     "text": [
      "C:\\Users\\Xiaomi\\AppData\\Local\\Temp\\ipykernel_28240\\859755045.py:32: FutureWarning: The frame.append method is deprecated and will be removed from pandas in a future version. Use pandas.concat instead.\n",
      "  df = df1.append(df2)\n"
     ]
    },
    {
     "name": "stdout",
     "output_type": "stream",
     "text": [
      "txns_ww45.csv\n"
     ]
    },
    {
     "name": "stderr",
     "output_type": "stream",
     "text": [
      "C:\\Users\\Xiaomi\\AppData\\Local\\Temp\\ipykernel_28240\\859755045.py:32: FutureWarning: The frame.append method is deprecated and will be removed from pandas in a future version. Use pandas.concat instead.\n",
      "  df = df1.append(df2)\n"
     ]
    },
    {
     "name": "stdout",
     "output_type": "stream",
     "text": [
      "txns_ww46.csv\n"
     ]
    },
    {
     "name": "stderr",
     "output_type": "stream",
     "text": [
      "C:\\Users\\Xiaomi\\AppData\\Local\\Temp\\ipykernel_28240\\859755045.py:32: FutureWarning: The frame.append method is deprecated and will be removed from pandas in a future version. Use pandas.concat instead.\n",
      "  df = df1.append(df2)\n"
     ]
    },
    {
     "name": "stdout",
     "output_type": "stream",
     "text": [
      "txns_ww47.csv\n"
     ]
    },
    {
     "name": "stderr",
     "output_type": "stream",
     "text": [
      "C:\\Users\\Xiaomi\\AppData\\Local\\Temp\\ipykernel_28240\\859755045.py:32: FutureWarning: The frame.append method is deprecated and will be removed from pandas in a future version. Use pandas.concat instead.\n",
      "  df = df1.append(df2)\n"
     ]
    },
    {
     "name": "stdout",
     "output_type": "stream",
     "text": [
      "txns_ww48.csv\n"
     ]
    },
    {
     "name": "stderr",
     "output_type": "stream",
     "text": [
      "C:\\Users\\Xiaomi\\AppData\\Local\\Temp\\ipykernel_28240\\859755045.py:32: FutureWarning: The frame.append method is deprecated and will be removed from pandas in a future version. Use pandas.concat instead.\n",
      "  df = df1.append(df2)\n"
     ]
    },
    {
     "name": "stdout",
     "output_type": "stream",
     "text": [
      "txns_ww49.csv\n"
     ]
    },
    {
     "name": "stderr",
     "output_type": "stream",
     "text": [
      "C:\\Users\\Xiaomi\\AppData\\Local\\Temp\\ipykernel_28240\\859755045.py:32: FutureWarning: The frame.append method is deprecated and will be removed from pandas in a future version. Use pandas.concat instead.\n",
      "  df = df1.append(df2)\n"
     ]
    },
    {
     "name": "stdout",
     "output_type": "stream",
     "text": [
      "txns_ww5.csv\n"
     ]
    },
    {
     "name": "stderr",
     "output_type": "stream",
     "text": [
      "C:\\Users\\Xiaomi\\AppData\\Local\\Temp\\ipykernel_28240\\859755045.py:32: FutureWarning: The frame.append method is deprecated and will be removed from pandas in a future version. Use pandas.concat instead.\n",
      "  df = df1.append(df2)\n"
     ]
    },
    {
     "name": "stdout",
     "output_type": "stream",
     "text": [
      "txns_ww50.csv\n"
     ]
    },
    {
     "name": "stderr",
     "output_type": "stream",
     "text": [
      "C:\\Users\\Xiaomi\\AppData\\Local\\Temp\\ipykernel_28240\\859755045.py:32: FutureWarning: The frame.append method is deprecated and will be removed from pandas in a future version. Use pandas.concat instead.\n",
      "  df = df1.append(df2)\n"
     ]
    },
    {
     "name": "stdout",
     "output_type": "stream",
     "text": [
      "txns_ww51.csv\n"
     ]
    },
    {
     "name": "stderr",
     "output_type": "stream",
     "text": [
      "C:\\Users\\Xiaomi\\AppData\\Local\\Temp\\ipykernel_28240\\859755045.py:32: FutureWarning: The frame.append method is deprecated and will be removed from pandas in a future version. Use pandas.concat instead.\n",
      "  df = df1.append(df2)\n"
     ]
    },
    {
     "name": "stdout",
     "output_type": "stream",
     "text": [
      "txns_ww52.csv\n"
     ]
    },
    {
     "name": "stderr",
     "output_type": "stream",
     "text": [
      "C:\\Users\\Xiaomi\\AppData\\Local\\Temp\\ipykernel_28240\\859755045.py:32: FutureWarning: The frame.append method is deprecated and will be removed from pandas in a future version. Use pandas.concat instead.\n",
      "  df = df1.append(df2)\n"
     ]
    },
    {
     "name": "stdout",
     "output_type": "stream",
     "text": [
      "txns_ww6.csv\n"
     ]
    },
    {
     "name": "stderr",
     "output_type": "stream",
     "text": [
      "C:\\Users\\Xiaomi\\AppData\\Local\\Temp\\ipykernel_28240\\859755045.py:32: FutureWarning: The frame.append method is deprecated and will be removed from pandas in a future version. Use pandas.concat instead.\n",
      "  df = df1.append(df2)\n"
     ]
    },
    {
     "name": "stdout",
     "output_type": "stream",
     "text": [
      "txns_ww7.csv\n"
     ]
    },
    {
     "name": "stderr",
     "output_type": "stream",
     "text": [
      "C:\\Users\\Xiaomi\\AppData\\Local\\Temp\\ipykernel_28240\\859755045.py:32: FutureWarning: The frame.append method is deprecated and will be removed from pandas in a future version. Use pandas.concat instead.\n",
      "  df = df1.append(df2)\n"
     ]
    },
    {
     "name": "stdout",
     "output_type": "stream",
     "text": [
      "txns_ww8.csv\n"
     ]
    },
    {
     "name": "stderr",
     "output_type": "stream",
     "text": [
      "C:\\Users\\Xiaomi\\AppData\\Local\\Temp\\ipykernel_28240\\859755045.py:32: FutureWarning: The frame.append method is deprecated and will be removed from pandas in a future version. Use pandas.concat instead.\n",
      "  df = df1.append(df2)\n"
     ]
    },
    {
     "name": "stdout",
     "output_type": "stream",
     "text": [
      "txns_ww9.csv\n"
     ]
    },
    {
     "name": "stderr",
     "output_type": "stream",
     "text": [
      "C:\\Users\\Xiaomi\\AppData\\Local\\Temp\\ipykernel_28240\\859755045.py:32: FutureWarning: The frame.append method is deprecated and will be removed from pandas in a future version. Use pandas.concat instead.\n",
      "  df = df1.append(df2)\n"
     ]
    }
   ],
   "source": [
    "df1 = get_data('txns_ww0.csv')\n",
    "for file in os.listdir('dataset/txns_data_raw'):\n",
    "    print(file)\n",
    "    if file == 'txns_ww0.csv':\n",
    "        continue\n",
    "    df2 = get_data(file)\n",
    "    df1 = join_dfs(df1, df2)\n",
    "df1\n",
    "df1.to_csv('data_year.csv')"
   ]
  },
  {
   "cell_type": "code",
   "execution_count": 94,
   "metadata": {},
   "outputs": [
    {
     "data": {
      "text/html": [
       "<div>\n",
       "<style scoped>\n",
       "    .dataframe tbody tr th:only-of-type {\n",
       "        vertical-align: middle;\n",
       "    }\n",
       "\n",
       "    .dataframe tbody tr th {\n",
       "        vertical-align: top;\n",
       "    }\n",
       "\n",
       "    .dataframe thead th {\n",
       "        text-align: right;\n",
       "    }\n",
       "</style>\n",
       "<table border=\"1\" class=\"dataframe\">\n",
       "  <thead>\n",
       "    <tr style=\"text-align: right;\">\n",
       "      <th></th>\n",
       "      <th>qw_count</th>\n",
       "      <th>amount_sum</th>\n",
       "      <th>txn_id_sum</th>\n",
       "      <th>revenue</th>\n",
       "      <th>costs</th>\n",
       "      <th>date</th>\n",
       "    </tr>\n",
       "    <tr>\n",
       "      <th>qw</th>\n",
       "      <th></th>\n",
       "      <th></th>\n",
       "      <th></th>\n",
       "      <th></th>\n",
       "      <th></th>\n",
       "      <th></th>\n",
       "    </tr>\n",
       "  </thead>\n",
       "  <tbody>\n",
       "    <tr>\n",
       "      <th>2</th>\n",
       "      <td>8</td>\n",
       "      <td>2.012325e+04</td>\n",
       "      <td>859929894</td>\n",
       "      <td>2.598750</td>\n",
       "      <td>-102.316250</td>\n",
       "      <td>2022-02-10</td>\n",
       "    </tr>\n",
       "    <tr>\n",
       "      <th>3</th>\n",
       "      <td>1</td>\n",
       "      <td>3.500000e+03</td>\n",
       "      <td>181102515</td>\n",
       "      <td>0.000000</td>\n",
       "      <td>-28.000000</td>\n",
       "      <td>2022-12-03</td>\n",
       "    </tr>\n",
       "    <tr>\n",
       "      <th>5</th>\n",
       "      <td>2</td>\n",
       "      <td>7.129745e+02</td>\n",
       "      <td>307721677</td>\n",
       "      <td>6.981590</td>\n",
       "      <td>-7.911160</td>\n",
       "      <td>2022-08-14</td>\n",
       "    </tr>\n",
       "    <tr>\n",
       "      <th>6</th>\n",
       "      <td>4</td>\n",
       "      <td>1.397550e+04</td>\n",
       "      <td>733117916</td>\n",
       "      <td>139.510000</td>\n",
       "      <td>-66.000000</td>\n",
       "      <td>2022-12-12</td>\n",
       "    </tr>\n",
       "    <tr>\n",
       "      <th>7</th>\n",
       "      <td>2</td>\n",
       "      <td>2.975000e+03</td>\n",
       "      <td>286228010</td>\n",
       "      <td>7.000000</td>\n",
       "      <td>-5.000000</td>\n",
       "      <td>2022-11-27</td>\n",
       "    </tr>\n",
       "    <tr>\n",
       "      <th>...</th>\n",
       "      <td>...</td>\n",
       "      <td>...</td>\n",
       "      <td>...</td>\n",
       "      <td>...</td>\n",
       "      <td>...</td>\n",
       "      <td>...</td>\n",
       "    </tr>\n",
       "    <tr>\n",
       "      <th>4631147</th>\n",
       "      <td>383</td>\n",
       "      <td>1.750018e+05</td>\n",
       "      <td>47095025038</td>\n",
       "      <td>1804.882012</td>\n",
       "      <td>-778.034058</td>\n",
       "      <td>2022-11-21</td>\n",
       "    </tr>\n",
       "    <tr>\n",
       "      <th>4631148</th>\n",
       "      <td>34</td>\n",
       "      <td>4.941300e+03</td>\n",
       "      <td>4101960613</td>\n",
       "      <td>49.250600</td>\n",
       "      <td>-40.814815</td>\n",
       "      <td>2022-04-13</td>\n",
       "    </tr>\n",
       "    <tr>\n",
       "      <th>4631149</th>\n",
       "      <td>41</td>\n",
       "      <td>1.419590e+04</td>\n",
       "      <td>7226124443</td>\n",
       "      <td>175.954450</td>\n",
       "      <td>-153.069195</td>\n",
       "      <td>2022-12-13</td>\n",
       "    </tr>\n",
       "    <tr>\n",
       "      <th>4631151</th>\n",
       "      <td>5</td>\n",
       "      <td>7.756892e+03</td>\n",
       "      <td>666220309</td>\n",
       "      <td>56.317800</td>\n",
       "      <td>-53.791580</td>\n",
       "      <td>2022-06-29</td>\n",
       "    </tr>\n",
       "    <tr>\n",
       "      <th>4631152</th>\n",
       "      <td>169</td>\n",
       "      <td>2.057817e+06</td>\n",
       "      <td>27082411337</td>\n",
       "      <td>23262.574650</td>\n",
       "      <td>-5904.923563</td>\n",
       "      <td>2022-12-11</td>\n",
       "    </tr>\n",
       "  </tbody>\n",
       "</table>\n",
       "<p>2555844 rows × 6 columns</p>\n",
       "</div>"
      ],
      "text/plain": [
       "         qw_count    amount_sum   txn_id_sum       revenue        costs  \\\n",
       "qw                                                                        \n",
       "2               8  2.012325e+04    859929894      2.598750  -102.316250   \n",
       "3               1  3.500000e+03    181102515      0.000000   -28.000000   \n",
       "5               2  7.129745e+02    307721677      6.981590    -7.911160   \n",
       "6               4  1.397550e+04    733117916    139.510000   -66.000000   \n",
       "7               2  2.975000e+03    286228010      7.000000    -5.000000   \n",
       "...           ...           ...          ...           ...          ...   \n",
       "4631147       383  1.750018e+05  47095025038   1804.882012  -778.034058   \n",
       "4631148        34  4.941300e+03   4101960613     49.250600   -40.814815   \n",
       "4631149        41  1.419590e+04   7226124443    175.954450  -153.069195   \n",
       "4631151         5  7.756892e+03    666220309     56.317800   -53.791580   \n",
       "4631152       169  2.057817e+06  27082411337  23262.574650 -5904.923563   \n",
       "\n",
       "              date  \n",
       "qw                  \n",
       "2       2022-02-10  \n",
       "3       2022-12-03  \n",
       "5       2022-08-14  \n",
       "6       2022-12-12  \n",
       "7       2022-11-27  \n",
       "...            ...  \n",
       "4631147 2022-11-21  \n",
       "4631148 2022-04-13  \n",
       "4631149 2022-12-13  \n",
       "4631151 2022-06-29  \n",
       "4631152 2022-12-11  \n",
       "\n",
       "[2555844 rows x 6 columns]"
      ]
     },
     "execution_count": 94,
     "metadata": {},
     "output_type": "execute_result"
    }
   ],
   "source": [
    "df1"
   ]
  },
  {
   "cell_type": "code",
   "execution_count": 72,
   "metadata": {},
   "outputs": [],
   "source": [
    "result_df = get_data('dataset/txns_data_raw/txns_ww0.csv')"
   ]
  },
  {
   "cell_type": "code",
   "execution_count": 73,
   "metadata": {},
   "outputs": [
    {
     "data": {
      "text/plain": [
       "(234591, 6)"
      ]
     },
     "execution_count": 73,
     "metadata": {},
     "output_type": "execute_result"
    }
   ],
   "source": [
    "result_df.shape"
   ]
  },
  {
   "cell_type": "code",
   "execution_count": 74,
   "metadata": {},
   "outputs": [
    {
     "data": {
      "text/html": [
       "<div>\n",
       "<style scoped>\n",
       "    .dataframe tbody tr th:only-of-type {\n",
       "        vertical-align: middle;\n",
       "    }\n",
       "\n",
       "    .dataframe tbody tr th {\n",
       "        vertical-align: top;\n",
       "    }\n",
       "\n",
       "    .dataframe thead th {\n",
       "        text-align: right;\n",
       "    }\n",
       "</style>\n",
       "<table border=\"1\" class=\"dataframe\">\n",
       "  <thead>\n",
       "    <tr style=\"text-align: right;\">\n",
       "      <th></th>\n",
       "      <th>qw_count</th>\n",
       "      <th>amount_sum</th>\n",
       "      <th>txn_id_sum</th>\n",
       "      <th>revenue</th>\n",
       "      <th>costs</th>\n",
       "      <th>date</th>\n",
       "    </tr>\n",
       "    <tr>\n",
       "      <th>qw</th>\n",
       "      <th></th>\n",
       "      <th></th>\n",
       "      <th></th>\n",
       "      <th></th>\n",
       "      <th></th>\n",
       "      <th></th>\n",
       "    </tr>\n",
       "  </thead>\n",
       "  <tbody>\n",
       "    <tr>\n",
       "      <th>4630880</th>\n",
       "      <td>2</td>\n",
       "      <td>18966.2550</td>\n",
       "      <td>372707314</td>\n",
       "      <td>0.000</td>\n",
       "      <td>-76.13004</td>\n",
       "      <td>2022-12-29</td>\n",
       "    </tr>\n",
       "    <tr>\n",
       "      <th>4630935</th>\n",
       "      <td>2</td>\n",
       "      <td>2625.0000</td>\n",
       "      <td>372217291</td>\n",
       "      <td>0.000</td>\n",
       "      <td>0.00000</td>\n",
       "      <td>2022-12-29</td>\n",
       "    </tr>\n",
       "    <tr>\n",
       "      <th>4630938</th>\n",
       "      <td>7</td>\n",
       "      <td>1473.8325</td>\n",
       "      <td>1305060391</td>\n",
       "      <td>14.595</td>\n",
       "      <td>-20.95266</td>\n",
       "      <td>2022-12-30</td>\n",
       "    </tr>\n",
       "    <tr>\n",
       "      <th>4630994</th>\n",
       "      <td>1</td>\n",
       "      <td>175.0000</td>\n",
       "      <td>186404577</td>\n",
       "      <td>0.000</td>\n",
       "      <td>0.00000</td>\n",
       "      <td>2022-12-29</td>\n",
       "    </tr>\n",
       "    <tr>\n",
       "      <th>4631027</th>\n",
       "      <td>3</td>\n",
       "      <td>1556.5375</td>\n",
       "      <td>559156203</td>\n",
       "      <td>10.430</td>\n",
       "      <td>-18.28030</td>\n",
       "      <td>2022-12-29</td>\n",
       "    </tr>\n",
       "  </tbody>\n",
       "</table>\n",
       "</div>"
      ],
      "text/plain": [
       "         qw_count  amount_sum  txn_id_sum  revenue     costs       date\n",
       "qw                                                                     \n",
       "4630880         2  18966.2550   372707314    0.000 -76.13004 2022-12-29\n",
       "4630935         2   2625.0000   372217291    0.000   0.00000 2022-12-29\n",
       "4630938         7   1473.8325  1305060391   14.595 -20.95266 2022-12-30\n",
       "4630994         1    175.0000   186404577    0.000   0.00000 2022-12-29\n",
       "4631027         3   1556.5375   559156203   10.430 -18.28030 2022-12-29"
      ]
     },
     "execution_count": 74,
     "metadata": {},
     "output_type": "execute_result"
    }
   ],
   "source": [
    "result_df.tail()"
   ]
  },
  {
   "cell_type": "code",
   "execution_count": 75,
   "metadata": {},
   "outputs": [],
   "source": [
    "result_df_2 = get_data('dataset/txns_data_raw/txns_ww1.csv')"
   ]
  },
  {
   "cell_type": "code",
   "execution_count": 76,
   "metadata": {},
   "outputs": [
    {
     "data": {
      "text/html": [
       "<div>\n",
       "<style scoped>\n",
       "    .dataframe tbody tr th:only-of-type {\n",
       "        vertical-align: middle;\n",
       "    }\n",
       "\n",
       "    .dataframe tbody tr th {\n",
       "        vertical-align: top;\n",
       "    }\n",
       "\n",
       "    .dataframe thead th {\n",
       "        text-align: right;\n",
       "    }\n",
       "</style>\n",
       "<table border=\"1\" class=\"dataframe\">\n",
       "  <thead>\n",
       "    <tr style=\"text-align: right;\">\n",
       "      <th></th>\n",
       "      <th>qw_count</th>\n",
       "      <th>amount_sum</th>\n",
       "      <th>txn_id_sum</th>\n",
       "      <th>revenue</th>\n",
       "      <th>costs</th>\n",
       "      <th>date</th>\n",
       "    </tr>\n",
       "    <tr>\n",
       "      <th>qw</th>\n",
       "      <th></th>\n",
       "      <th></th>\n",
       "      <th></th>\n",
       "      <th></th>\n",
       "      <th></th>\n",
       "      <th></th>\n",
       "    </tr>\n",
       "  </thead>\n",
       "  <tbody>\n",
       "    <tr>\n",
       "      <th>12</th>\n",
       "      <td>1</td>\n",
       "      <td>131.8625</td>\n",
       "      <td>186753381</td>\n",
       "      <td>0.00000</td>\n",
       "      <td>-0.923037</td>\n",
       "      <td>2022-12-31</td>\n",
       "    </tr>\n",
       "    <tr>\n",
       "      <th>37</th>\n",
       "      <td>1</td>\n",
       "      <td>105.0875</td>\n",
       "      <td>186813193</td>\n",
       "      <td>2.10175</td>\n",
       "      <td>-5.000000</td>\n",
       "      <td>2022-12-31</td>\n",
       "    </tr>\n",
       "    <tr>\n",
       "      <th>81</th>\n",
       "      <td>4</td>\n",
       "      <td>3267.2500</td>\n",
       "      <td>743978527</td>\n",
       "      <td>32.79500</td>\n",
       "      <td>-23.020000</td>\n",
       "      <td>2022-12-27</td>\n",
       "    </tr>\n",
       "    <tr>\n",
       "      <th>107</th>\n",
       "      <td>4</td>\n",
       "      <td>1261.7500</td>\n",
       "      <td>744330547</td>\n",
       "      <td>12.61715</td>\n",
       "      <td>-15.047140</td>\n",
       "      <td>2022-12-28</td>\n",
       "    </tr>\n",
       "    <tr>\n",
       "      <th>135</th>\n",
       "      <td>6</td>\n",
       "      <td>968.0825</td>\n",
       "      <td>1116310664</td>\n",
       "      <td>19.36165</td>\n",
       "      <td>-30.000000</td>\n",
       "      <td>2022-12-31</td>\n",
       "    </tr>\n",
       "    <tr>\n",
       "      <th>...</th>\n",
       "      <td>...</td>\n",
       "      <td>...</td>\n",
       "      <td>...</td>\n",
       "      <td>...</td>\n",
       "      <td>...</td>\n",
       "      <td>...</td>\n",
       "    </tr>\n",
       "    <tr>\n",
       "      <th>4630880</th>\n",
       "      <td>2</td>\n",
       "      <td>18966.2550</td>\n",
       "      <td>372707314</td>\n",
       "      <td>0.00000</td>\n",
       "      <td>-76.130040</td>\n",
       "      <td>2022-12-29</td>\n",
       "    </tr>\n",
       "    <tr>\n",
       "      <th>4630935</th>\n",
       "      <td>2</td>\n",
       "      <td>2625.0000</td>\n",
       "      <td>372217291</td>\n",
       "      <td>0.00000</td>\n",
       "      <td>0.000000</td>\n",
       "      <td>2022-12-29</td>\n",
       "    </tr>\n",
       "    <tr>\n",
       "      <th>4630938</th>\n",
       "      <td>7</td>\n",
       "      <td>1473.8325</td>\n",
       "      <td>1305060391</td>\n",
       "      <td>14.59500</td>\n",
       "      <td>-20.952660</td>\n",
       "      <td>2022-12-30</td>\n",
       "    </tr>\n",
       "    <tr>\n",
       "      <th>4630994</th>\n",
       "      <td>1</td>\n",
       "      <td>175.0000</td>\n",
       "      <td>186404577</td>\n",
       "      <td>0.00000</td>\n",
       "      <td>0.000000</td>\n",
       "      <td>2022-12-29</td>\n",
       "    </tr>\n",
       "    <tr>\n",
       "      <th>4631027</th>\n",
       "      <td>3</td>\n",
       "      <td>1556.5375</td>\n",
       "      <td>559156203</td>\n",
       "      <td>10.43000</td>\n",
       "      <td>-18.280300</td>\n",
       "      <td>2022-12-29</td>\n",
       "    </tr>\n",
       "  </tbody>\n",
       "</table>\n",
       "<p>234591 rows × 6 columns</p>\n",
       "</div>"
      ],
      "text/plain": [
       "         qw_count  amount_sum  txn_id_sum   revenue      costs       date\n",
       "qw                                                                       \n",
       "12              1    131.8625   186753381   0.00000  -0.923037 2022-12-31\n",
       "37              1    105.0875   186813193   2.10175  -5.000000 2022-12-31\n",
       "81              4   3267.2500   743978527  32.79500 -23.020000 2022-12-27\n",
       "107             4   1261.7500   744330547  12.61715 -15.047140 2022-12-28\n",
       "135             6    968.0825  1116310664  19.36165 -30.000000 2022-12-31\n",
       "...           ...         ...         ...       ...        ...        ...\n",
       "4630880         2  18966.2550   372707314   0.00000 -76.130040 2022-12-29\n",
       "4630935         2   2625.0000   372217291   0.00000   0.000000 2022-12-29\n",
       "4630938         7   1473.8325  1305060391  14.59500 -20.952660 2022-12-30\n",
       "4630994         1    175.0000   186404577   0.00000   0.000000 2022-12-29\n",
       "4631027         3   1556.5375   559156203  10.43000 -18.280300 2022-12-29\n",
       "\n",
       "[234591 rows x 6 columns]"
      ]
     },
     "execution_count": 76,
     "metadata": {},
     "output_type": "execute_result"
    }
   ],
   "source": [
    "result_df"
   ]
  },
  {
   "cell_type": "code",
   "execution_count": 77,
   "metadata": {},
   "outputs": [
    {
     "data": {
      "text/html": [
       "<div>\n",
       "<style scoped>\n",
       "    .dataframe tbody tr th:only-of-type {\n",
       "        vertical-align: middle;\n",
       "    }\n",
       "\n",
       "    .dataframe tbody tr th {\n",
       "        vertical-align: top;\n",
       "    }\n",
       "\n",
       "    .dataframe thead th {\n",
       "        text-align: right;\n",
       "    }\n",
       "</style>\n",
       "<table border=\"1\" class=\"dataframe\">\n",
       "  <thead>\n",
       "    <tr style=\"text-align: right;\">\n",
       "      <th></th>\n",
       "      <th>qw_count</th>\n",
       "      <th>amount_sum</th>\n",
       "      <th>txn_id_sum</th>\n",
       "      <th>revenue</th>\n",
       "      <th>costs</th>\n",
       "      <th>date</th>\n",
       "    </tr>\n",
       "    <tr>\n",
       "      <th>qw</th>\n",
       "      <th></th>\n",
       "      <th></th>\n",
       "      <th></th>\n",
       "      <th></th>\n",
       "      <th></th>\n",
       "      <th></th>\n",
       "    </tr>\n",
       "  </thead>\n",
       "  <tbody>\n",
       "    <tr>\n",
       "      <th>52</th>\n",
       "      <td>1</td>\n",
       "      <td>122.5000</td>\n",
       "      <td>185531918</td>\n",
       "      <td>2.45000</td>\n",
       "      <td>-5.00000</td>\n",
       "      <td>2022-12-24</td>\n",
       "    </tr>\n",
       "    <tr>\n",
       "      <th>81</th>\n",
       "      <td>2</td>\n",
       "      <td>1807.7500</td>\n",
       "      <td>369825043</td>\n",
       "      <td>17.95500</td>\n",
       "      <td>-12.28000</td>\n",
       "      <td>2022-12-20</td>\n",
       "    </tr>\n",
       "    <tr>\n",
       "      <th>99</th>\n",
       "      <td>1</td>\n",
       "      <td>700.0000</td>\n",
       "      <td>185494032</td>\n",
       "      <td>0.00000</td>\n",
       "      <td>-5.60000</td>\n",
       "      <td>2022-12-24</td>\n",
       "    </tr>\n",
       "    <tr>\n",
       "      <th>107</th>\n",
       "      <td>2</td>\n",
       "      <td>631.6100</td>\n",
       "      <td>371741931</td>\n",
       "      <td>6.31610</td>\n",
       "      <td>-7.52644</td>\n",
       "      <td>2022-12-26</td>\n",
       "    </tr>\n",
       "    <tr>\n",
       "      <th>114</th>\n",
       "      <td>1</td>\n",
       "      <td>1972.3200</td>\n",
       "      <td>184596654</td>\n",
       "      <td>0.00000</td>\n",
       "      <td>-15.77856</td>\n",
       "      <td>2022-12-19</td>\n",
       "    </tr>\n",
       "    <tr>\n",
       "      <th>...</th>\n",
       "      <td>...</td>\n",
       "      <td>...</td>\n",
       "      <td>...</td>\n",
       "      <td>...</td>\n",
       "      <td>...</td>\n",
       "      <td>...</td>\n",
       "    </tr>\n",
       "    <tr>\n",
       "      <th>4630842</th>\n",
       "      <td>2</td>\n",
       "      <td>1489.2500</td>\n",
       "      <td>370765877</td>\n",
       "      <td>22.33875</td>\n",
       "      <td>-9.44625</td>\n",
       "      <td>2022-12-23</td>\n",
       "    </tr>\n",
       "    <tr>\n",
       "      <th>4630935</th>\n",
       "      <td>6</td>\n",
       "      <td>11557.0000</td>\n",
       "      <td>1112121494</td>\n",
       "      <td>0.00000</td>\n",
       "      <td>0.00000</td>\n",
       "      <td>2022-12-26</td>\n",
       "    </tr>\n",
       "    <tr>\n",
       "      <th>4630938</th>\n",
       "      <td>3</td>\n",
       "      <td>628.5825</td>\n",
       "      <td>556350275</td>\n",
       "      <td>6.19500</td>\n",
       "      <td>-12.55066</td>\n",
       "      <td>2022-12-24</td>\n",
       "    </tr>\n",
       "    <tr>\n",
       "      <th>4630949</th>\n",
       "      <td>1</td>\n",
       "      <td>631.7500</td>\n",
       "      <td>185015430</td>\n",
       "      <td>0.00000</td>\n",
       "      <td>0.00000</td>\n",
       "      <td>2022-12-21</td>\n",
       "    </tr>\n",
       "    <tr>\n",
       "      <th>4631027</th>\n",
       "      <td>4</td>\n",
       "      <td>2111.1475</td>\n",
       "      <td>741242746</td>\n",
       "      <td>21.10500</td>\n",
       "      <td>-23.44718</td>\n",
       "      <td>2022-12-25</td>\n",
       "    </tr>\n",
       "  </tbody>\n",
       "</table>\n",
       "<p>275921 rows × 6 columns</p>\n",
       "</div>"
      ],
      "text/plain": [
       "         qw_count  amount_sum  txn_id_sum   revenue     costs       date\n",
       "qw                                                                      \n",
       "52              1    122.5000   185531918   2.45000  -5.00000 2022-12-24\n",
       "81              2   1807.7500   369825043  17.95500 -12.28000 2022-12-20\n",
       "99              1    700.0000   185494032   0.00000  -5.60000 2022-12-24\n",
       "107             2    631.6100   371741931   6.31610  -7.52644 2022-12-26\n",
       "114             1   1972.3200   184596654   0.00000 -15.77856 2022-12-19\n",
       "...           ...         ...         ...       ...       ...        ...\n",
       "4630842         2   1489.2500   370765877  22.33875  -9.44625 2022-12-23\n",
       "4630935         6  11557.0000  1112121494   0.00000   0.00000 2022-12-26\n",
       "4630938         3    628.5825   556350275   6.19500 -12.55066 2022-12-24\n",
       "4630949         1    631.7500   185015430   0.00000   0.00000 2022-12-21\n",
       "4631027         4   2111.1475   741242746  21.10500 -23.44718 2022-12-25\n",
       "\n",
       "[275921 rows x 6 columns]"
      ]
     },
     "execution_count": 77,
     "metadata": {},
     "output_type": "execute_result"
    }
   ],
   "source": [
    "result_df_2"
   ]
  },
  {
   "cell_type": "code",
   "execution_count": 79,
   "metadata": {},
   "outputs": [
    {
     "name": "stderr",
     "output_type": "stream",
     "text": [
      "C:\\Users\\Xiaomi\\AppData\\Local\\Temp\\ipykernel_28240\\2512955002.py:2: FutureWarning: The frame.append method is deprecated and will be removed from pandas in a future version. Use pandas.concat instead.\n",
      "  df = df1.append(df2)\n"
     ]
    }
   ],
   "source": [
    "df_joined = join_dfs(result_df, result_df_2)"
   ]
  },
  {
   "cell_type": "code",
   "execution_count": 80,
   "metadata": {},
   "outputs": [
    {
     "data": {
      "text/html": [
       "<div>\n",
       "<style scoped>\n",
       "    .dataframe tbody tr th:only-of-type {\n",
       "        vertical-align: middle;\n",
       "    }\n",
       "\n",
       "    .dataframe tbody tr th {\n",
       "        vertical-align: top;\n",
       "    }\n",
       "\n",
       "    .dataframe thead th {\n",
       "        text-align: right;\n",
       "    }\n",
       "</style>\n",
       "<table border=\"1\" class=\"dataframe\">\n",
       "  <thead>\n",
       "    <tr style=\"text-align: right;\">\n",
       "      <th></th>\n",
       "      <th>qw_count</th>\n",
       "      <th>amount_sum</th>\n",
       "      <th>txn_id_sum</th>\n",
       "      <th>revenue</th>\n",
       "      <th>costs</th>\n",
       "      <th>date</th>\n",
       "    </tr>\n",
       "    <tr>\n",
       "      <th>qw</th>\n",
       "      <th></th>\n",
       "      <th></th>\n",
       "      <th></th>\n",
       "      <th></th>\n",
       "      <th></th>\n",
       "      <th></th>\n",
       "    </tr>\n",
       "  </thead>\n",
       "  <tbody>\n",
       "    <tr>\n",
       "      <th>12</th>\n",
       "      <td>1</td>\n",
       "      <td>131.8625</td>\n",
       "      <td>186753381</td>\n",
       "      <td>0.00000</td>\n",
       "      <td>-0.923037</td>\n",
       "      <td>2022-12-31</td>\n",
       "    </tr>\n",
       "    <tr>\n",
       "      <th>37</th>\n",
       "      <td>1</td>\n",
       "      <td>105.0875</td>\n",
       "      <td>186813193</td>\n",
       "      <td>2.10175</td>\n",
       "      <td>-5.000000</td>\n",
       "      <td>2022-12-31</td>\n",
       "    </tr>\n",
       "    <tr>\n",
       "      <th>52</th>\n",
       "      <td>1</td>\n",
       "      <td>122.5000</td>\n",
       "      <td>185531918</td>\n",
       "      <td>2.45000</td>\n",
       "      <td>-5.000000</td>\n",
       "      <td>2022-12-24</td>\n",
       "    </tr>\n",
       "    <tr>\n",
       "      <th>81</th>\n",
       "      <td>6</td>\n",
       "      <td>5075.0000</td>\n",
       "      <td>1113803570</td>\n",
       "      <td>50.75000</td>\n",
       "      <td>-35.300000</td>\n",
       "      <td>2022-12-27</td>\n",
       "    </tr>\n",
       "    <tr>\n",
       "      <th>99</th>\n",
       "      <td>1</td>\n",
       "      <td>700.0000</td>\n",
       "      <td>185494032</td>\n",
       "      <td>0.00000</td>\n",
       "      <td>-5.600000</td>\n",
       "      <td>2022-12-24</td>\n",
       "    </tr>\n",
       "    <tr>\n",
       "      <th>...</th>\n",
       "      <td>...</td>\n",
       "      <td>...</td>\n",
       "      <td>...</td>\n",
       "      <td>...</td>\n",
       "      <td>...</td>\n",
       "      <td>...</td>\n",
       "    </tr>\n",
       "    <tr>\n",
       "      <th>4630935</th>\n",
       "      <td>8</td>\n",
       "      <td>14182.0000</td>\n",
       "      <td>1484338785</td>\n",
       "      <td>0.00000</td>\n",
       "      <td>0.000000</td>\n",
       "      <td>2022-12-29</td>\n",
       "    </tr>\n",
       "    <tr>\n",
       "      <th>4630938</th>\n",
       "      <td>10</td>\n",
       "      <td>2102.4150</td>\n",
       "      <td>1861410666</td>\n",
       "      <td>20.79000</td>\n",
       "      <td>-33.503320</td>\n",
       "      <td>2022-12-30</td>\n",
       "    </tr>\n",
       "    <tr>\n",
       "      <th>4630949</th>\n",
       "      <td>1</td>\n",
       "      <td>631.7500</td>\n",
       "      <td>185015430</td>\n",
       "      <td>0.00000</td>\n",
       "      <td>0.000000</td>\n",
       "      <td>2022-12-21</td>\n",
       "    </tr>\n",
       "    <tr>\n",
       "      <th>4630994</th>\n",
       "      <td>1</td>\n",
       "      <td>175.0000</td>\n",
       "      <td>186404577</td>\n",
       "      <td>0.00000</td>\n",
       "      <td>0.000000</td>\n",
       "      <td>2022-12-29</td>\n",
       "    </tr>\n",
       "    <tr>\n",
       "      <th>4631027</th>\n",
       "      <td>7</td>\n",
       "      <td>3667.6850</td>\n",
       "      <td>1300398949</td>\n",
       "      <td>31.53500</td>\n",
       "      <td>-41.727480</td>\n",
       "      <td>2022-12-29</td>\n",
       "    </tr>\n",
       "  </tbody>\n",
       "</table>\n",
       "<p>367319 rows × 6 columns</p>\n",
       "</div>"
      ],
      "text/plain": [
       "         qw_count  amount_sum  txn_id_sum   revenue      costs       date\n",
       "qw                                                                       \n",
       "12              1    131.8625   186753381   0.00000  -0.923037 2022-12-31\n",
       "37              1    105.0875   186813193   2.10175  -5.000000 2022-12-31\n",
       "52              1    122.5000   185531918   2.45000  -5.000000 2022-12-24\n",
       "81              6   5075.0000  1113803570  50.75000 -35.300000 2022-12-27\n",
       "99              1    700.0000   185494032   0.00000  -5.600000 2022-12-24\n",
       "...           ...         ...         ...       ...        ...        ...\n",
       "4630935         8  14182.0000  1484338785   0.00000   0.000000 2022-12-29\n",
       "4630938        10   2102.4150  1861410666  20.79000 -33.503320 2022-12-30\n",
       "4630949         1    631.7500   185015430   0.00000   0.000000 2022-12-21\n",
       "4630994         1    175.0000   186404577   0.00000   0.000000 2022-12-29\n",
       "4631027         7   3667.6850  1300398949  31.53500 -41.727480 2022-12-29\n",
       "\n",
       "[367319 rows x 6 columns]"
      ]
     },
     "execution_count": 80,
     "metadata": {},
     "output_type": "execute_result"
    }
   ],
   "source": [
    "df_joined"
   ]
  },
  {
   "cell_type": "code",
   "execution_count": null,
   "metadata": {},
   "outputs": [],
   "source": []
  }
 ],
 "metadata": {
  "kernelspec": {
   "display_name": "Python 3",
   "language": "python",
   "name": "python3"
  },
  "language_info": {
   "codemirror_mode": {
    "name": "ipython",
    "version": 3
   },
   "file_extension": ".py",
   "mimetype": "text/x-python",
   "name": "python",
   "nbconvert_exporter": "python",
   "pygments_lexer": "ipython3",
   "version": "3.11.1"
  },
  "orig_nbformat": 4,
  "vscode": {
   "interpreter": {
    "hash": "f5dc1d050cdcaf23d8b0072c9e77a91277b876692ad90dd06f91016f43a3b45a"
   }
  }
 },
 "nbformat": 4,
 "nbformat_minor": 2
}
