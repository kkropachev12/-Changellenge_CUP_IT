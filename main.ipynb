{
 "cells": [
  {
   "cell_type": "code",
   "execution_count": null,
   "metadata": {},
   "outputs": [],
   "source": [
    "import os\n",
    "import pandas as pd\n",
    "import seaborn as sn\n",
    "import dask.dataframe as dd\n",
    "\n",
    "\n",
    "df_pers_data = pd.read_csv(f'dataset/personal_data/qw_personal_data.csv', sep=';')\n",
    "df = pd.read_csv(f'dataset/txns_data_raw/txns_ww0.csv', sep=';')\n",
    "df.rename(columns = {'qw':'nn_qw'}, inplace = True )\n",
    "df.head()"
   ]
  },
  {
   "cell_type": "code",
   "execution_count": null,
   "metadata": {},
   "outputs": [],
   "source": [
    "df_pers_data.head(10)"
   ]
  },
  {
   "cell_type": "code",
   "execution_count": null,
   "metadata": {},
   "outputs": [],
   "source": [
    "# Персональные данные записаны в строку вместо столбцов, поэтому переводим данные в одтельные столбцы\n",
    "i = 0\n",
    "per_data = {}\n",
    "data_types = df_pers_data['data_type'].to_list()\n",
    "personal_datas = df_pers_data['personal_data'].to_list()\n",
    "nn_qws = df_pers_data['nn_qw'].to_list()\n",
    "qw_nn = []\n",
    "\n",
    "for data_type in data_types:\n",
    "    print(i)\n",
    "    if not per_data.get(data_type):\n",
    "        per_data[data_type] = []\n",
    "    per_data[data_type].append(personal_datas[i])\n",
    "    if nn_qws[i] not in qw_nn:\n",
    "        qw_nn.append(nn_qws[i])\n",
    "    i += 1\n",
    "\n"
   ]
  },
  {
   "cell_type": "code",
   "execution_count": null,
   "metadata": {},
   "outputs": [],
   "source": [
    "new_df = pd.DataFrame()\n",
    "new_df['nn_qw'] = qw_nn\n",
    "for name, data in per_data.items():\n",
    "    new_df[name] = data\n",
    "new_df.head(20)"
   ]
  },
  {
   "cell_type": "code",
   "execution_count": null,
   "metadata": {},
   "outputs": [],
   "source": [
    "\n",
    "df_pers_data = df_pers_data.merge(df, on='nn_qw', how='left')\n",
    "df_pers_data.head()"
   ]
  },
  {
   "cell_type": "code",
   "execution_count": null,
   "metadata": {},
   "outputs": [],
   "source": [
    "df.describe()"
   ]
  },
  {
   "cell_type": "code",
   "execution_count": null,
   "metadata": {},
   "outputs": [],
   "source": [
    "df.head()"
   ]
  },
  {
   "cell_type": "code",
   "execution_count": null,
   "metadata": {},
   "outputs": [],
   "source": [
    "corr = df.corr()\n",
    "sn.heatmap(corr, annot=True)"
   ]
  },
  {
   "cell_type": "code",
   "execution_count": null,
   "metadata": {},
   "outputs": [],
   "source": []
  },
  {
   "cell_type": "code",
   "execution_count": null,
   "metadata": {},
   "outputs": [],
   "source": []
  }
 ],
 "metadata": {
  "kernelspec": {
   "display_name": "Python 3",
   "language": "python",
   "name": "python3"
  },
  "language_info": {
   "codemirror_mode": {
    "name": "ipython",
    "version": 3
   },
   "file_extension": ".py",
   "mimetype": "text/x-python",
   "name": "python",
   "nbconvert_exporter": "python",
   "pygments_lexer": "ipython3",
   "version": "3.11.1"
  },
  "orig_nbformat": 4
 },
 "nbformat": 4,
 "nbformat_minor": 2
}
